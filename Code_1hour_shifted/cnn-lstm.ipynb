{
 "cells": [
  {
   "cell_type": "code",
   "execution_count": 1,
   "metadata": {},
   "outputs": [],
   "source": [
    "file_path = r\"C:\\Users\\james\\Documents\\GitHub\\Traffic_Volume_Prediction\""
   ]
  },
  {
   "cell_type": "code",
   "execution_count": 2,
   "metadata": {},
   "outputs": [],
   "source": [
    "import pandas as pd\n",
    "\n",
    "train = pd.read_csv(file_path + r\"\\Data\\train.csv\")\n",
    "test = pd.read_csv(file_path + r\"\\Data\\test.csv\")"
   ]
  },
  {
   "cell_type": "code",
   "execution_count": 3,
   "metadata": {},
   "outputs": [],
   "source": [
    "# X_train과 y_train 설정\n",
    "X_train = train.drop(columns=['1005004000_velocity'])\n",
    "y_train = train[['1005004000_velocity']]\n",
    "\n",
    "# X_test와 y_test 설정\n",
    "X_test = test.drop(columns=['1005004000_velocity'])\n",
    "y_test = test[['1005004000_velocity']]"
   ]
  },
  {
   "cell_type": "code",
   "execution_count": 4,
   "metadata": {},
   "outputs": [
    {
     "name": "stdout",
     "output_type": "stream",
     "text": [
      "X_train shape: (19284, 68)\n",
      "y_train shape: (19284, 1)\n",
      "X_test shape: (719, 68)\n",
      "y_test shape: (719, 1)\n"
     ]
    }
   ],
   "source": [
    "# 타겟 컬럼과 시간 시차 설정\n",
    "TARGET = '1005004000_velocity'\n",
    "HORIZON = 1  # 1시간 시차\n",
    "\n",
    "# 1시간 시차 적용하여 데이터 생성\n",
    "train['y_shifted'] = train[TARGET].shift(-HORIZON)  # 1시간 이후 값을 타겟으로 설정\n",
    "test['y_shifted'] = test[TARGET].shift(-HORIZON)\n",
    "\n",
    "# 비어 있는 데이터 제거\n",
    "train = train.dropna(subset=['y_shifted'])\n",
    "test = test.dropna(subset=['y_shifted'])\n",
    "\n",
    "# X_train, y_train 설정\n",
    "X_train = train.drop(columns=[TARGET, 'y_shifted'])\n",
    "y_train = train[['y_shifted']]\n",
    "\n",
    "# X_test, y_test 설정\n",
    "X_test = test.drop(columns=[TARGET, 'y_shifted'])\n",
    "y_test = test[['y_shifted']]\n",
    "\n",
    "# 결과 출력 (확인용)\n",
    "print(f\"X_train shape: {X_train.shape}\")\n",
    "print(f\"y_train shape: {y_train.shape}\")\n",
    "print(f\"X_test shape: {X_test.shape}\")\n",
    "print(f\"y_test shape: {y_test.shape}\")"
   ]
  },
  {
   "cell_type": "code",
   "execution_count": 5,
   "metadata": {},
   "outputs": [
    {
     "name": "stdout",
     "output_type": "stream",
     "text": [
      "(19284, 68) (19284, 1) (719, 68) (719, 1)\n"
     ]
    }
   ],
   "source": [
    "# 넷 다 dataframe\n",
    "print(X_train.shape, y_train.shape, X_test.shape, y_test.shape)"
   ]
  },
  {
   "cell_type": "code",
   "execution_count": 6,
   "metadata": {},
   "outputs": [],
   "source": [
    "# 처리 방식 정의\n",
    "fill_methods = {\n",
    "    '강수량(mm)': 0,\n",
    "    '풍속(m/s)': 'average',\n",
    "    '적설(cm)': 0\n",
    "}\n",
    "\n",
    "# 확장 가능한 결측값 처리 함수\n",
    "def fill_missing_expanding(df, column, max_offset=2400):\n",
    "    \"\"\"\n",
    "    결측값을 24, 48, 72, ..., max_offset 시간 뒤/전의 값으로 채우는 함수\n",
    "    \"\"\"\n",
    "    step = 24  # 24시간 간격\n",
    "    for offset in range(step, max_offset + step, step):  # 24, 48, 72, ..., max_offset\n",
    "        # 24시간 뒤와 전 값으로 채우기\n",
    "        df[column] = df[column].fillna(df[column].shift(offset))\n",
    "        df[column] = df[column].fillna(df[column].shift(-offset))\n",
    "        # 결측값이 모두 채워졌으면 반복 종료\n",
    "        if df[column].isna().sum() == 0:\n",
    "            break\n",
    "    # 남은 결측값이 있으면 ffill로 채우기\n",
    "    if df[column].isna().sum() != 0:\n",
    "        df[column] = df[column].ffill()\n",
    "    return df\n",
    "\n",
    "# 결측값 처리\n",
    "for df in [X_train, X_test]:\n",
    "    for column in df.columns:  # 모든 컬럼에 대해 처리\n",
    "        method = fill_methods.get(column, '24-48hour')  # 명시되지 않은 경우 기본값 '24-48hour'\n",
    "        \n",
    "        if method == '24-48hour':  # 24시간 뒤/전 방식으로 채우기\n",
    "            df = fill_missing_expanding(df, column)\n",
    "        elif method == 'average':  # 평균으로 채우기\n",
    "            df[column] = df[column].fillna(df[column].mean())\n",
    "        elif method == 'ffill':  # 이전 값으로 채우기\n",
    "            df[column] = df[column].ffill()\n",
    "        else:  # 특정 값으로 채우기\n",
    "            df[column] = df[column].fillna(method)\n"
   ]
  },
  {
   "cell_type": "code",
   "execution_count": 7,
   "metadata": {},
   "outputs": [],
   "source": [
    "# 모든 열을 float32로 변환\n",
    "X_train = X_train.astype('float32')\n",
    "X_test = X_test.astype('float32')"
   ]
  },
  {
   "cell_type": "code",
   "execution_count": 8,
   "metadata": {},
   "outputs": [],
   "source": [
    "from sklearn.preprocessing import MinMaxScaler\n",
    "\n",
    "# X_train과 X_test를 하나로 합침\n",
    "X_combined = pd.concat([X_train, X_test], axis=0)\n",
    "\n",
    "# MinMaxScaler 적용\n",
    "scaler = MinMaxScaler()\n",
    "X_combined_scaled = pd.DataFrame(scaler.fit_transform(X_combined), columns=X_combined.columns)\n",
    "\n",
    "# 다시 분리\n",
    "X_train = X_combined_scaled.iloc[:len(X_train), :].reset_index(drop=True)\n",
    "X_test = X_combined_scaled.iloc[len(X_train):, :].reset_index(drop=True)"
   ]
  },
  {
   "cell_type": "code",
   "execution_count": 9,
   "metadata": {},
   "outputs": [
    {
     "name": "stdout",
     "output_type": "stream",
     "text": [
      "Using device: cuda\n"
     ]
    },
    {
     "name": "stderr",
     "output_type": "stream",
     "text": [
      "Fold 16 Training: 100%|██████████| 100/100 [03:24<00:00,  2.04s/it]\n"
     ]
    },
    {
     "name": "stdout",
     "output_type": "stream",
     "text": [
      "Fold 16, Validation MAPE: 0.0787\n"
     ]
    },
    {
     "name": "stderr",
     "output_type": "stream",
     "text": [
      "Fold 17 Training: 100%|██████████| 100/100 [03:36<00:00,  2.17s/it]\n"
     ]
    },
    {
     "name": "stdout",
     "output_type": "stream",
     "text": [
      "Fold 17, Validation MAPE: 0.0854\n"
     ]
    },
    {
     "name": "stderr",
     "output_type": "stream",
     "text": [
      "Fold 18 Training: 100%|██████████| 100/100 [03:49<00:00,  2.29s/it]\n"
     ]
    },
    {
     "name": "stdout",
     "output_type": "stream",
     "text": [
      "Fold 18, Validation MAPE: 0.1337\n"
     ]
    },
    {
     "name": "stderr",
     "output_type": "stream",
     "text": [
      "Fold 19 Training: 100%|██████████| 100/100 [04:01<00:00,  2.41s/it]\n"
     ]
    },
    {
     "name": "stdout",
     "output_type": "stream",
     "text": [
      "Fold 19, Validation MAPE: 0.1482\n"
     ]
    },
    {
     "name": "stderr",
     "output_type": "stream",
     "text": [
      "Fold 20 Training: 100%|██████████| 100/100 [02:14<00:00,  1.35s/it]\n"
     ]
    },
    {
     "name": "stdout",
     "output_type": "stream",
     "text": [
      "Fold 20, Validation MAPE: 0.0879\n"
     ]
    },
    {
     "name": "stderr",
     "output_type": "stream",
     "text": [
      "Fold 21 Training: 100%|██████████| 100/100 [02:20<00:00,  1.41s/it]\n"
     ]
    },
    {
     "name": "stdout",
     "output_type": "stream",
     "text": [
      "Fold 21, Validation MAPE: 0.0685\n"
     ]
    },
    {
     "name": "stderr",
     "output_type": "stream",
     "text": [
      "Fold 22 Training: 100%|██████████| 100/100 [02:27<00:00,  1.47s/it]\n"
     ]
    },
    {
     "name": "stdout",
     "output_type": "stream",
     "text": [
      "Fold 22, Validation MAPE: 0.0667\n"
     ]
    },
    {
     "name": "stderr",
     "output_type": "stream",
     "text": [
      "Fold 23 Training: 100%|██████████| 100/100 [02:35<00:00,  1.55s/it]\n"
     ]
    },
    {
     "name": "stdout",
     "output_type": "stream",
     "text": [
      "Fold 23, Validation MAPE: 0.0698\n"
     ]
    },
    {
     "name": "stderr",
     "output_type": "stream",
     "text": [
      "Fold 24 Training: 100%|██████████| 100/100 [02:40<00:00,  1.61s/it]\n"
     ]
    },
    {
     "name": "stdout",
     "output_type": "stream",
     "text": [
      "Fold 24, Validation MAPE: 0.0766\n"
     ]
    },
    {
     "name": "stderr",
     "output_type": "stream",
     "text": [
      "Fold 25 Training: 100%|██████████| 100/100 [02:48<00:00,  1.69s/it]\n"
     ]
    },
    {
     "name": "stdout",
     "output_type": "stream",
     "text": [
      "Fold 25, Validation MAPE: 0.0741\n"
     ]
    },
    {
     "name": "stderr",
     "output_type": "stream",
     "text": [
      "Fold 26 Training: 100%|██████████| 100/100 [03:00<00:00,  1.81s/it]\n"
     ]
    },
    {
     "name": "stdout",
     "output_type": "stream",
     "text": [
      "Fold 26, Validation MAPE: 0.1046\n"
     ]
    },
    {
     "name": "stderr",
     "output_type": "stream",
     "text": [
      "Fold 27 Training: 100%|██████████| 100/100 [03:09<00:00,  1.90s/it]"
     ]
    },
    {
     "name": "stdout",
     "output_type": "stream",
     "text": [
      "Fold 27, Validation MAPE: 0.0902\n"
     ]
    },
    {
     "name": "stderr",
     "output_type": "stream",
     "text": [
      "\n"
     ]
    }
   ],
   "source": [
    "import torch\n",
    "import torch.nn as nn\n",
    "import torch.nn.functional as F\n",
    "from sklearn.metrics import mean_absolute_percentage_error\n",
    "import numpy as np\n",
    "from sklearn.model_selection import TimeSeriesSplit\n",
    "from tqdm import tqdm\n",
    "\n",
    "def set_seed(seed):\n",
    "    # PyTorch 시드 고정 (CPU)\n",
    "    torch.manual_seed(seed)\n",
    "    \n",
    "    # PyTorch 시드 고정 (GPU)\n",
    "    if torch.cuda.is_available():\n",
    "        torch.cuda.manual_seed(seed)\n",
    "        torch.cuda.manual_seed_all(seed)  # 모든 GPU에 시드 설정\n",
    "\n",
    "    # PyTorch 재현성 설정 (optional)\n",
    "    torch.backends.cudnn.deterministic = True\n",
    "    torch.backends.cudnn.benchmark = False\n",
    "\n",
    "# 시드 설정\n",
    "set_seed(42)\n",
    "\n",
    "# 설정 값\n",
    "N_TEST = 12\n",
    "N_SPLIT = 27\n",
    "INPUT_SIZE = 21  # X_train의 feature 수\n",
    "HIDDEN_SIZE = 128\n",
    "OUTPUT_SIZE = 1  # y_train의 feature 수\n",
    "EPOCHS = 100\n",
    "LEARNING_RATE = 0.001\n",
    "\n",
    "# CUDA 설정\n",
    "device = torch.device(\"cuda\" if torch.cuda.is_available() else \"cpu\")\n",
    "print(f\"Using device: {device}\")\n",
    "\n",
    "# TimeSeriesSplit 설정\n",
    "tscv = TimeSeriesSplit(n_splits=N_SPLIT)\n",
    "\n",
    "# MAPE 점수 리스트\n",
    "mape_scores = []\n",
    "\n",
    "class CNNLSTM(nn.Module):\n",
    "    def __init__(self, input_size, output_size, hidden_size, num_layers):\n",
    "        super(CNNLSTM, self).__init__()\n",
    "        self.conv1 = nn.Conv1d(1, 64, kernel_size=3, stride=1)  # [batch_size, 1, 21] -> [batch_size, 64, 19]\n",
    "        self.conv2 = nn.Conv1d(64, 32, kernel_size=3, stride=1, padding=1)  # [batch_size, 64, 19] -> [batch_size, 32, 19]\n",
    "        self.batch1 = nn.BatchNorm1d(32)\n",
    "        self.conv3 = nn.Conv1d(32, 16, kernel_size=3, stride=1, padding=1)  # [batch_size, 32, 19] -> [batch_size, 16, 19]\n",
    "        self.batch2 = nn.BatchNorm1d(16)\n",
    "        self.LSTM = nn.LSTM(input_size=16, hidden_size=hidden_size, num_layers=num_layers, batch_first=True)\n",
    "        self.fc1 = nn.Linear(hidden_size, output_size)\n",
    "\n",
    "    def forward(self, x):\n",
    "        x = F.relu(self.conv1(x))  # [batch_size, 1, 21] -> [batch_size, 64, 19]\n",
    "        x = F.relu(self.conv2(x))  # [batch_size, 64, 19] -> [batch_size, 32, 19]\n",
    "        x = self.batch1(x)\n",
    "        x = F.relu(self.conv3(x))  # [batch_size, 32, 19] -> [batch_size, 16, 19]\n",
    "        x = self.batch2(x)\n",
    "        x = x.permute(0, 2, 1)     # [batch_size, 16, 19] -> [batch_size, 19, 16]\n",
    "        x, _ = self.LSTM(x)        # [batch_size, 19, 16] -> [batch_size, 19, hidden_size]\n",
    "        x = x[:, -1, :]            # [batch_size, 19, hidden_size] -> [batch_size, hidden_size]\n",
    "        x = self.fc1(x)            # [batch_size, hidden_size] -> [batch_size, output_size]\n",
    "        return x\n",
    "\n",
    "\n",
    "# 학습 및 검증 루프\n",
    "for fold, (train_idx, val_idx) in enumerate(tscv.split(X_train)):\n",
    "    if fold < N_SPLIT - N_TEST:\n",
    "        continue\n",
    "\n",
    "    model = CNNLSTM(INPUT_SIZE, OUTPUT_SIZE, HIDDEN_SIZE, num_layers=1).to(device)\n",
    "    criterion = nn.MSELoss()\n",
    "    optimizer = torch.optim.Adam(model.parameters(), lr=LEARNING_RATE)\n",
    "\n",
    "    # 데이터 분리\n",
    "    X_tr, X_val = X_train.iloc[train_idx].values, X_train.iloc[val_idx].values\n",
    "    y_tr, y_val = y_train.iloc[train_idx].values, y_train.iloc[val_idx].values\n",
    "\n",
    "    # 배치 데이터 준비\n",
    "    batch_size = 32\n",
    "    train_dataset = torch.utils.data.TensorDataset(\n",
    "        torch.tensor(X_tr, dtype=torch.float32).unsqueeze(1),\n",
    "        torch.tensor(y_tr, dtype=torch.float32).unsqueeze(1)\n",
    "    )\n",
    "    val_dataset = torch.utils.data.TensorDataset(\n",
    "        torch.tensor(X_val, dtype=torch.float32).unsqueeze(1),\n",
    "        torch.tensor(y_val, dtype=torch.float32).unsqueeze(1)\n",
    "    )\n",
    "    train_loader = torch.utils.data.DataLoader(train_dataset, batch_size=batch_size, shuffle=True)\n",
    "    val_loader = torch.utils.data.DataLoader(val_dataset, batch_size=batch_size, shuffle=False)\n",
    "\n",
    "    # 학습\n",
    "    for epoch in tqdm(range(EPOCHS), desc=f\"Fold {fold + 1} Training\"):\n",
    "        model.train()\n",
    "        for X_batch, y_batch in train_loader:\n",
    "            X_batch, y_batch = X_batch.to(device), y_batch.to(device)\n",
    "            optimizer.zero_grad()\n",
    "            y_pred = model(X_batch)\n",
    "            # print(y_pred.shape, y_batch.shape)\n",
    "            loss = criterion(y_pred, y_batch.squeeze(1))  # 크기 맞춤\n",
    "            loss.backward()\n",
    "            optimizer.step()\n",
    "\n",
    "    # 검증\n",
    "    model.eval()\n",
    "    val_preds, val_targets = [], []\n",
    "    with torch.no_grad():\n",
    "        for X_batch, y_batch in val_loader:\n",
    "            X_batch, y_batch = X_batch.to(device), y_batch.to(device)\n",
    "            y_pred = model(X_batch)\n",
    "            val_preds.append(y_pred.cpu().numpy())\n",
    "            val_targets.append(y_batch.cpu().numpy())\n",
    "\n",
    "    val_preds = np.concatenate(val_preds).squeeze()\n",
    "    val_targets = np.concatenate(val_targets).squeeze()\n",
    "    mape = mean_absolute_percentage_error(val_targets, val_preds)\n",
    "    mape_scores.append(mape)\n",
    "    print(f\"Fold {fold + 1}, Validation MAPE: {mape:.4f}\")"
   ]
  },
  {
   "cell_type": "code",
   "execution_count": 10,
   "metadata": {},
   "outputs": [
    {
     "name": "stderr",
     "output_type": "stream",
     "text": [
      "Fold 27 Training: 100%|██████████| 100/100 [03:14<00:00,  1.94s/it]"
     ]
    },
    {
     "name": "stdout",
     "output_type": "stream",
     "text": [
      "Results: \n",
      "Average Validation MAPE: 0.0904\n",
      "Validation MAPE Std Dev: 0.0250\n",
      "Final Test MAPE: 0.0801\n",
      "CUDA memory cleared.\n"
     ]
    },
    {
     "name": "stderr",
     "output_type": "stream",
     "text": [
      "\n"
     ]
    }
   ],
   "source": [
    "# 모델 초기화\n",
    "model = CNNLSTM(INPUT_SIZE, OUTPUT_SIZE, HIDDEN_SIZE, num_layers=1).to(device)\n",
    "criterion = nn.MSELoss()\n",
    "optimizer = torch.optim.Adam(model.parameters(), lr=LEARNING_RATE)\n",
    "\n",
    "# 데이터 분리\n",
    "X_tr = X_train\n",
    "y_tr = y_train\n",
    "\n",
    "# 배치 데이터 준비\n",
    "batch_size = 32\n",
    "train_dataset = torch.utils.data.TensorDataset(\n",
    "    torch.tensor(X_tr.values, dtype=torch.float32).unsqueeze(1),\n",
    "    torch.tensor(y_tr.values, dtype=torch.float32).unsqueeze(1)\n",
    ")\n",
    "train_loader = torch.utils.data.DataLoader(train_dataset, batch_size=batch_size, shuffle=True)\n",
    "\n",
    "# 학습\n",
    "for epoch in tqdm(range(EPOCHS), desc=f\"Fold {fold + 1} Training\"):\n",
    "    model.train()\n",
    "    for X_batch, y_batch in train_loader:\n",
    "        X_batch, y_batch = X_batch.to(device), y_batch.to(device)\n",
    "        optimizer.zero_grad()\n",
    "        y_pred = model(X_batch)\n",
    "        # print(y_pred.shape, y_batch.shape)\n",
    "        loss = criterion(y_pred, y_batch.squeeze(1))  # 크기 맞춤\n",
    "        loss.backward()\n",
    "        optimizer.step()\n",
    "\n",
    "# 테스트 세트에 대한 최종 예측\n",
    "X_test_tensor = torch.tensor(X_test.values, dtype=torch.float32).unsqueeze(1).to(device)\n",
    "y_test_tensor = torch.tensor(y_test.values, dtype=torch.float32).to(device)\n",
    "\n",
    "model.eval()\n",
    "with torch.no_grad():\n",
    "    y_test_pred = model(X_test_tensor).cpu().squeeze().numpy()  # CPU로 이동 후 Numpy 변환\n",
    "    test_mape = mean_absolute_percentage_error(y_test, y_test_pred)\n",
    "\n",
    "# 결과 출력\n",
    "print(\"Results: \")\n",
    "print(f\"Average Validation MAPE: {np.mean(mape_scores):.4f}\")\n",
    "print(f\"Validation MAPE Std Dev: {np.std(mape_scores):.4f}\")\n",
    "print(f\"Final Test MAPE: {test_mape:.4f}\")\n",
    "\n",
    "# GPU 메모리 비우기\n",
    "torch.cuda.empty_cache()\n",
    "print(\"CUDA memory cleared.\")"
   ]
  },
  {
   "cell_type": "markdown",
   "metadata": {},
   "source": [
    "Using device: cuda\n",
    "Fold 16, Validation MAPE: 0.1759\n",
    "Fold 17, Validation MAPE: 0.1968\n",
    "Fold 18, Validation MAPE: 0.1657\n",
    "Fold 19, Validation MAPE: 0.1805\n",
    "Fold 20, Validation MAPE: 0.1039\n",
    "Fold 21, Validation MAPE: 0.0849\n",
    "Fold 22, Validation MAPE: 0.0733\n",
    "Fold 23, Validation MAPE: 0.0804\n",
    "Fold 24, Validation MAPE: 0.0830\n",
    "Fold 25, Validation MAPE: 0.0852\n",
    "Fold 26, Validation MAPE: 0.1051\n",
    "Fold 27, Validation MAPE: 0.0894\n",
    "Results: \n",
    "Average Validation MAPE: 0.1187\n",
    "Validation MAPE Std Dev: 0.0445\n",
    "Final Test MAPE: 0.0855\n",
    "CUDA memory cleared."
   ]
  },
  {
   "cell_type": "code",
   "execution_count": null,
   "metadata": {},
   "outputs": [],
   "source": []
  }
 ],
 "metadata": {
  "kernelspec": {
   "display_name": "base",
   "language": "python",
   "name": "python3"
  },
  "language_info": {
   "codemirror_mode": {
    "name": "ipython",
    "version": 3
   },
   "file_extension": ".py",
   "mimetype": "text/x-python",
   "name": "python",
   "nbconvert_exporter": "python",
   "pygments_lexer": "ipython3",
   "version": "3.12.4"
  }
 },
 "nbformat": 4,
 "nbformat_minor": 2
}
